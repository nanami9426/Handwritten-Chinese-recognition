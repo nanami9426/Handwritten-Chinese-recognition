{
 "cells": [
  {
   "cell_type": "code",
   "execution_count": 45,
   "id": "3ac38639",
   "metadata": {},
   "outputs": [],
   "source": [
    "import pathlib\n",
    "import os\n",
    "\n",
    "data_dir = pathlib.Path('../data_for_test/test')"
   ]
  },
  {
   "cell_type": "code",
   "execution_count": 46,
   "id": "54f77993",
   "metadata": {},
   "outputs": [],
   "source": [
    "import PIL\n",
    "from PIL import Image"
   ]
  },
  {
   "cell_type": "code",
   "execution_count": 117,
   "id": "4ead2dff",
   "metadata": {},
   "outputs": [
    {
     "name": "stdout",
     "output_type": "stream",
     "text": [
      "..\\data_for_test\\test\\哀\\0.jpg\n",
      "<class 'pathlib.WindowsPath'>\n"
     ]
    }
   ],
   "source": [
    "for i in data_dir.rglob('*'):\n",
    "    if i.is_file():\n",
    "#         print(i,i.parent.name)\n",
    "        print(i)\n",
    "        print(type(i))\n",
    "        img = PIL.Image.open(i)\n",
    "        break"
   ]
  },
  {
   "cell_type": "code",
   "execution_count": 125,
   "id": "b31bae1c",
   "metadata": {},
   "outputs": [
    {
     "name": "stdout",
     "output_type": "stream",
     "text": [
      "哀\n",
      "哎\n",
      "唉\n",
      "啊\n",
      "埃\n",
      "挨\n",
      "皑\n",
      "阿\n"
     ]
    }
   ],
   "source": [
    "for i in data_dir.glob('*'):\n",
    "\n",
    "#         print(i,i.parent.name)\n",
    "    print(i.name)\n"
   ]
  },
  {
   "cell_type": "code",
   "execution_count": 56,
   "id": "492fefd3",
   "metadata": {},
   "outputs": [
    {
     "data": {
      "image/jpeg": "[encoded data removed]",
      "image/png": "[encoded data removed]",
      "text/plain": [
       "<PIL.JpegImagePlugin.JpegImageFile image mode=L size=39x83>"
      ]
     },
     "execution_count": 56,
     "metadata": {},
     "output_type": "execute_result"
    }
   ],
   "source": [
    "img"
   ]
  },
  {
   "cell_type": "code",
   "execution_count": 23,
   "id": "2903010f",
   "metadata": {},
   "outputs": [],
   "source": [
    "from torchvision import transforms"
   ]
  },
  {
   "cell_type": "code",
   "execution_count": 151,
   "id": "7be02f07",
   "metadata": {},
   "outputs": [],
   "source": [
    "class HWVocab:\n",
    "    def __init__(self,data_dir):\n",
    "        self.lables = []\n",
    "        self.char_dict = {}\n",
    "        self.initialize_dict(data_dir)\n",
    "    def initialize_dict(self,path):\n",
    "        data_dir = pathlib.Path(path)\n",
    "        for i in data_dir.glob('*'):\n",
    "            if i not in self.lables:\n",
    "                self.lables.append(i.name)\n",
    "        for idx,c in enumerate(self.lables):\n",
    "            self.char_dict[c] = idx\n",
    "        print(f\"dict initialized successfully,there's {len(self.char_dict)} lables in the dict.\")\n",
    "\n",
    "    \n",
    "    def __getitem__(self,c):\n",
    "        return self.char_dict[c]\n",
    "    \n",
    "    def lable2char(self,idx):\n",
    "        return self.lables[idx]"
   ]
  },
  {
   "cell_type": "code",
   "execution_count": 152,
   "id": "f49effad",
   "metadata": {},
   "outputs": [
    {
     "name": "stdout",
     "output_type": "stream",
     "text": [
      "dict initialized successfully,there's 8 lables in the dict.\n"
     ]
    }
   ],
   "source": [
    "voc_test = HWVocab('../data_for_test/test')"
   ]
  },
  {
   "cell_type": "code",
   "execution_count": 153,
   "id": "43db71e1",
   "metadata": {},
   "outputs": [
    {
     "data": {
      "text/plain": [
       "0"
      ]
     },
     "execution_count": 153,
     "metadata": {},
     "output_type": "execute_result"
    }
   ],
   "source": [
    "voc_test['哀']"
   ]
  },
  {
   "cell_type": "code",
   "execution_count": 154,
   "id": "234762e0",
   "metadata": {},
   "outputs": [
    {
     "data": {
      "text/plain": [
       "'哀'"
      ]
     },
     "execution_count": 154,
     "metadata": {},
     "output_type": "execute_result"
    }
   ],
   "source": [
    "voc_test.lable2char(0)"
   ]
  },
  {
   "cell_type": "code",
   "execution_count": 164,
   "id": "1ae70de4",
   "metadata": {},
   "outputs": [],
   "source": [
    "class HWDataset:\n",
    "    # Hand Writting Dataset\n",
    "    def __init__(self,data_dir):\n",
    "        self.transform = transforms.Compose([\n",
    "            transforms.Resize((48,48)),\n",
    "            transforms.ToTensor()\n",
    "        ])\n",
    "        self.to_img = transforms.ToPILImage()\n",
    "        self.data_dir = data_dir\n",
    "        self.vocab = HWVocab(data_dir)\n",
    "        self.data_list = self.get_data_list()\n",
    "    def get_data_list(self):\n",
    "        num_lable = 0\n",
    "        data_list = []\n",
    "        data_dir = pathlib.Path(self.data_dir)\n",
    "        for file in data_dir.rglob('*'):\n",
    "            if file.is_file():\n",
    "                lable = self.vocab[file.parent.name]\n",
    "                img = PIL.Image.open(file)\n",
    "                feature = self.transform(img)\n",
    "                data_list.append((lable,feature))\n",
    "        print(f\"lenth of dataset is : {len(data_list)}\")\n",
    "        return data_list\n",
    "    \n",
    "    def __len__(self):\n",
    "        return len(self.data_list)\n",
    "    \n",
    "    def __getitem__(self,idx):\n",
    "        return self.data_list[idx]\n",
    "    \n",
    "    def get_img(self,idx):\n",
    "        item = self.data_list[idx]\n",
    "        img = self.to_img(item[1])\n",
    "        return (self.vocab.lable2char(item[0]),img)\n",
    "    \n",
    "    "
   ]
  },
  {
   "cell_type": "code",
   "execution_count": 165,
   "id": "b6980447",
   "metadata": {},
   "outputs": [
    {
     "name": "stdout",
     "output_type": "stream",
     "text": [
      "dict initialized successfully,there's 8 lables in the dict.\n",
      "lenth of dataset is : 477\n"
     ]
    }
   ],
   "source": [
    "test = HWDataset(data_dir='../data_for_test/test')"
   ]
  },
  {
   "cell_type": "code",
   "execution_count": 166,
   "id": "0b47be76",
   "metadata": {},
   "outputs": [
    {
     "data": {
      "text/plain": [
       "torch.Size([1, 48, 48])"
      ]
     },
     "execution_count": 166,
     "metadata": {},
     "output_type": "execute_result"
    }
   ],
   "source": [
    "test[0][1].shape"
   ]
  },
  {
   "cell_type": "code",
   "execution_count": 168,
   "id": "dfbc1749",
   "metadata": {},
   "outputs": [
    {
     "data": {
      "text/plain": [
       "('哀', <PIL.Image.Image image mode=L size=48x48>)"
      ]
     },
     "execution_count": 168,
     "metadata": {},
     "output_type": "execute_result"
    }
   ],
   "source": [
    "test.get_img(0)"
   ]
  },
  {
   "cell_type": "code",
   "execution_count": null,
   "id": "38c57ac6",
   "metadata": {},
   "outputs": [],
   "source": []
  },
  {
   "cell_type": "code",
   "execution_count": 169,
   "id": "ce67f685",
   "metadata": {},
   "outputs": [
    {
     "name": "stdout",
     "output_type": "stream",
     "text": [
      "(0, tensor([[[1.0000, 1.0000, 1.0000,  ..., 1.0000, 1.0000, 1.0000],\n",
      "         [1.0000, 1.0000, 1.0000,  ..., 1.0000, 1.0000, 1.0000],\n",
      "         [1.0000, 1.0000, 1.0000,  ..., 1.0000, 1.0000, 1.0000],\n",
      "         ...,\n",
      "         [0.9961, 0.9922, 0.9882,  ..., 0.5922, 0.6824, 0.7255],\n",
      "         [1.0000, 0.9961, 1.0000,  ..., 0.4510, 0.6078, 0.7647],\n",
      "         [1.0000, 1.0000, 1.0000,  ..., 0.8235, 0.9020, 0.9765]]]))\n",
      "torch.Size([1, 48, 48])\n",
      "0\n"
     ]
    }
   ],
   "source": [
    "for i in test:\n",
    "    print(i)\n",
    "    print(i[1].shape)\n",
    "    print(i[0])\n",
    "    break"
   ]
  },
  {
   "cell_type": "code",
   "execution_count": null,
   "id": "2e7b1bb5",
   "metadata": {},
   "outputs": [],
   "source": []
  }
 ],
 "metadata": {
  "kernelspec": {
   "display_name": "torch",
   "language": "python",
   "name": "torch"
  },
  "language_info": {
   "codemirror_mode": {
    "name": "ipython",
    "version": 3
   },
   "file_extension": ".py",
   "mimetype": "text/x-python",
   "name": "python",
   "nbconvert_exporter": "python",
   "pygments_lexer": "ipython3",
   "version": "3.10.14"
  }
 },
 "nbformat": 4,
 "nbformat_minor": 5
}
