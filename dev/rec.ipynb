{
 "cells": [
  {
   "cell_type": "code",
   "execution_count": 2,
   "id": "5c7c5a11",
   "metadata": {},
   "outputs": [],
   "source": [
    "import sys\n",
    "sys.path.append('../tools/')\n",
    "from net import HWNet"
   ]
  },
  {
   "cell_type": "code",
   "execution_count": 3,
   "id": "d15b0f46",
   "metadata": {},
   "outputs": [],
   "source": [
    "import torch"
   ]
  },
  {
   "cell_type": "code",
   "execution_count": 4,
   "id": "6fbb5270",
   "metadata": {},
   "outputs": [],
   "source": [
    "from dataset import HWDataset"
   ]
  },
  {
   "cell_type": "code",
   "execution_count": 5,
   "id": "9fe331a4",
   "metadata": {},
   "outputs": [
    {
     "name": "stdout",
     "output_type": "stream",
     "text": [
      "dict initialized successfully,there's 3755 lables in the dict.\n",
      "lenth of dataset is : 897725\n"
     ]
    }
   ],
   "source": [
    "dataset = HWDataset('../data/train/')"
   ]
  },
  {
   "cell_type": "code",
   "execution_count": 11,
   "id": "347dfdd7",
   "metadata": {},
   "outputs": [
    {
     "data": {
      "text/plain": [
       "['一', '丁', '七', '万', '丈', '三', '上', '下', '不', '与']"
      ]
     },
     "execution_count": 11,
     "metadata": {},
     "output_type": "execute_result"
    }
   ],
   "source": [
    "dataset.vocab.lables[:10]"
   ]
  },
  {
   "cell_type": "code",
   "execution_count": 25,
   "id": "a4bf2935",
   "metadata": {},
   "outputs": [
    {
     "data": {
      "text/plain": [
       "tensor(2)"
      ]
     },
     "execution_count": 25,
     "metadata": {},
     "output_type": "execute_result"
    }
   ],
   "source": [
    "dataset.vocab.tlables[:10][2].argmax()"
   ]
  },
  {
   "cell_type": "code",
   "execution_count": 26,
   "id": "8375f0a6",
   "metadata": {},
   "outputs": [
    {
     "data": {
      "text/plain": [
       "'七'"
      ]
     },
     "execution_count": 26,
     "metadata": {},
     "output_type": "execute_result"
    }
   ],
   "source": [
    "dataset.vocab.lables[dataset.vocab.tlables[:10][2].argmax()]"
   ]
  },
  {
   "cell_type": "code",
   "execution_count": 19,
   "id": "6578a706",
   "metadata": {},
   "outputs": [],
   "source": [
    "hwnet = HWNet(len(dataset.vocab))"
   ]
  },
  {
   "cell_type": "code",
   "execution_count": 20,
   "id": "79aaa753",
   "metadata": {},
   "outputs": [
    {
     "data": {
      "text/plain": [
       "<All keys matched successfully>"
      ]
     },
     "execution_count": 20,
     "metadata": {},
     "output_type": "execute_result"
    }
   ],
   "source": [
    "hwnet.load_state_dict(torch.load('./handwriting.params'))"
   ]
  },
  {
   "cell_type": "code",
   "execution_count": 21,
   "id": "61fd0429",
   "metadata": {},
   "outputs": [],
   "source": [
    "from torchvision import transforms\n",
    "to_img = transforms.ToPILImage()\n",
    "transform = transforms.Compose([\n",
    "            transforms.Resize((48,48)),\n",
    "            transforms.ToTensor()\n",
    "        ])"
   ]
  },
  {
   "cell_type": "code",
   "execution_count": 22,
   "id": "f88fb73a",
   "metadata": {},
   "outputs": [],
   "source": [
    "import PIL"
   ]
  },
  {
   "cell_type": "code",
   "execution_count": 27,
   "id": "ca20835c",
   "metadata": {},
   "outputs": [],
   "source": [
    "img = PIL.Image.open('../data/test/七/10.jpg')"
   ]
  },
  {
   "cell_type": "code",
   "execution_count": 28,
   "id": "cb8ee290",
   "metadata": {},
   "outputs": [
    {
     "data": {
      "image/jpeg": "[encoded data removed]",
      "image/png": "[encoded data removed]",
      "text/plain": [
       "<PIL.JpegImagePlugin.JpegImageFile image mode=L size=50x72>"
      ]
     },
     "execution_count": 28,
     "metadata": {},
     "output_type": "execute_result"
    }
   ],
   "source": [
    "img"
   ]
  },
  {
   "cell_type": "code",
   "execution_count": 29,
   "id": "1e897b2c",
   "metadata": {},
   "outputs": [],
   "source": [
    "feature = transform(img)"
   ]
  },
  {
   "cell_type": "code",
   "execution_count": 30,
   "id": "ba82af98",
   "metadata": {},
   "outputs": [],
   "source": [
    "feature=feature.reshape(1,1,48,48)"
   ]
  },
  {
   "cell_type": "code",
   "execution_count": 32,
   "id": "9a4848af",
   "metadata": {},
   "outputs": [],
   "source": [
    "res = hwnet(feature)"
   ]
  },
  {
   "cell_type": "code",
   "execution_count": 33,
   "id": "0baf458c",
   "metadata": {},
   "outputs": [
    {
     "data": {
      "text/plain": [
       "torch.Size([1, 3755])"
      ]
     },
     "execution_count": 33,
     "metadata": {},
     "output_type": "execute_result"
    }
   ],
   "source": [
    "res.shape"
   ]
  },
  {
   "cell_type": "code",
   "execution_count": 38,
   "id": "21596db0",
   "metadata": {},
   "outputs": [
    {
     "data": {
      "text/plain": [
       "tensor([-1.0164, -0.5400, -1.1202,  ...,  0.4944, -0.4027,  0.5509],\n",
       "       grad_fn=<SelectBackward0>)"
      ]
     },
     "execution_count": 38,
     "metadata": {},
     "output_type": "execute_result"
    }
   ],
   "source": [
    "res[0]"
   ]
  },
  {
   "cell_type": "code",
   "execution_count": 37,
   "id": "d4a2fa62",
   "metadata": {},
   "outputs": [
    {
     "data": {
      "text/plain": [
       "'夕'"
      ]
     },
     "execution_count": 37,
     "metadata": {},
     "output_type": "execute_result"
    }
   ],
   "source": [
    "dataset.vocab.lables[res[0].argmin()]"
   ]
  },
  {
   "cell_type": "code",
   "execution_count": null,
   "id": "d7e14396",
   "metadata": {},
   "outputs": [],
   "source": []
  }
 ],
 "metadata": {
  "kernelspec": {
   "display_name": "torch",
   "language": "python",
   "name": "torch"
  },
  "language_info": {
   "codemirror_mode": {
    "name": "ipython",
    "version": 3
   },
   "file_extension": ".py",
   "mimetype": "text/x-python",
   "name": "python",
   "nbconvert_exporter": "python",
   "pygments_lexer": "ipython3",
   "version": "3.10.14"
  }
 },
 "nbformat": 4,
 "nbformat_minor": 5
}
