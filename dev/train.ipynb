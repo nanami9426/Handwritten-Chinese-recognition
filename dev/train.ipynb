{
 "cells": [
  {
   "cell_type": "code",
   "execution_count": 15,
   "id": "09e7f8c9",
   "metadata": {},
   "outputs": [],
   "source": [
    "import torch\n",
    "import torchvision\n",
    "from torch import nn\n",
    "from torch.utils.data import DataLoader\n",
    "from torchvision import datasets\n",
    "from torchvision.transforms import ToTensor"
   ]
  },
  {
   "cell_type": "code",
   "execution_count": null,
   "id": "d2c4903e",
   "metadata": {},
   "outputs": [],
   "source": []
  },
  {
   "cell_type": "code",
   "execution_count": null,
   "id": "744daf3e",
   "metadata": {},
   "outputs": [],
   "source": [
    "loss_fn = nn.CrossEntropyLoss()\n",
    "optimizer = torch.optim.SGD(model.parameters(), lr=1e-3)"
   ]
  },
  {
   "cell_type": "code",
   "execution_count": 19,
   "id": "6b5bd126",
   "metadata": {},
   "outputs": [],
   "source": [
    "def train_epoch(net,data_loader,loss_fn,optimizer,device):\n",
    "    size = len(data_loader.dataset)\n",
    "    net.train()\n",
    "    for batch,(X,y) in enumerate(data_loader):\n",
    "        X = X.to(device)\n",
    "        y = y.to(device)\n",
    "        y_hat = net(y)\n",
    "        loss = loss_fn(y,y_hat)\n",
    "        loss.backward()\n",
    "        optimizer.step()\n",
    "        optimizer.zero_grad()\n",
    "        if batch%50==0:\n",
    "            loss = loss.item()\n",
    "            current_batch = (batch+1)*len(X)\n",
    "            print(f'loss:{loss:>5f},[{current_batch:>5d}/{size:>5d}]')"
   ]
  },
  {
   "cell_type": "code",
   "execution_count": null,
   "id": "b9c9e2f1",
   "metadata": {},
   "outputs": [],
   "source": [
    "def test_epoch(net,data_loader,loss_fn,optimizer,device):\n",
    "    "
   ]
  }
 ],
 "metadata": {
  "kernelspec": {
   "display_name": "torch",
   "language": "python",
   "name": "torch"
  },
  "language_info": {
   "codemirror_mode": {
    "name": "ipython",
    "version": 3
   },
   "file_extension": ".py",
   "mimetype": "text/x-python",
   "name": "python",
   "nbconvert_exporter": "python",
   "pygments_lexer": "ipython3",
   "version": "3.10.14"
  }
 },
 "nbformat": 4,
 "nbformat_minor": 5
}
