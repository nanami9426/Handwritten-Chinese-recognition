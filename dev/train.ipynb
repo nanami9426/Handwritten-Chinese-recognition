{
 "cells": [
  {
   "cell_type": "code",
   "execution_count": 1,
   "id": "09e7f8c9",
   "metadata": {},
   "outputs": [],
   "source": [
    "import torch\n",
    "import torchvision\n",
    "from torch import nn\n",
    "from torch.utils.data import DataLoader\n",
    "from torchvision import datasets\n",
    "from torchvision.transforms import ToTensor"
   ]
  },
  {
   "cell_type": "code",
   "execution_count": 2,
   "id": "d2c4903e",
   "metadata": {},
   "outputs": [],
   "source": [
    "import sys\n",
    "sys.path.append('../tools/')\n",
    "from net import HWNet"
   ]
  },
  {
   "cell_type": "code",
   "execution_count": 3,
   "id": "391e5460",
   "metadata": {},
   "outputs": [],
   "source": [
    "device = torch.device(\"cuda\")\n",
    "\n"
   ]
  },
  {
   "cell_type": "code",
   "execution_count": 4,
   "id": "6b5bd126",
   "metadata": {},
   "outputs": [],
   "source": [
    "def train(net,data_loader,loss_fn,optimizer,device):\n",
    "    size = len(data_loader.dataset)\n",
    "    net.train()\n",
    "    for batch,(X,y) in enumerate(data_loader):\n",
    "        X = X.to(device)\n",
    "        y = y.float().to(device)\n",
    "        y_hat = net(X)\n",
    "        loss = loss_fn(y_hat,y)\n",
    "        loss.backward()\n",
    "        optimizer.step()\n",
    "        optimizer.zero_grad()\n",
    "        if batch%10==0:\n",
    "            loss = loss.item()\n",
    "            current_batch = (batch+1)*len(X)\n",
    "            print(f' loss:{loss:>.5f},[{current_batch:>5d}/{size:>5d}]',end='\\r')\n",
    "    print(f\"Already trained a epoch,wait for test ...\")"
   ]
  },
  {
   "cell_type": "code",
   "execution_count": 5,
   "id": "b9c9e2f1",
   "metadata": {},
   "outputs": [],
   "source": [
    "def test(net,data_loader,loss_fn,device):\n",
    "    size = len(data_loader.dataset)\n",
    "    num_batches = len(data_loader)\n",
    "    net.eval()\n",
    "    correct,test_loss = 0,0\n",
    "    with torch.no_grad():\n",
    "        for X,y in data_loader:\n",
    "            X,y = X.to(device),y.float().to(device)\n",
    "            y_hat = net(X)\n",
    "            test_loss += loss_fn(y_hat,y).item()\n",
    "            for i,j in zip(y,y_hat):\n",
    "                if i.argmax() == j.argmax():\n",
    "                    correct += 1\n",
    "        test_loss /= num_batches\n",
    "        correct /= size\n",
    "        print(f\"Test error:\\n accuracy: {(100*correct):0.1f}%, avg loss: {test_loss:.5f}\")"
   ]
  },
  {
   "cell_type": "code",
   "execution_count": 6,
   "id": "18a51e19",
   "metadata": {},
   "outputs": [],
   "source": [
    "batch_size = 32"
   ]
  },
  {
   "cell_type": "code",
   "execution_count": 7,
   "id": "d5c2a9a2",
   "metadata": {},
   "outputs": [
    {
     "name": "stdout",
     "output_type": "stream",
     "text": [
      "dict initialized successfully,there's 8 lables in the dict.\n",
      "lenth of dataset is : 1918\n",
      "dict initialized successfully,there's 8 lables in the dict.\n",
      "lenth of dataset is : 477\n"
     ]
    }
   ],
   "source": [
    "from dataset import get_data_loader\n",
    "trn_loader,num_labels_trn,tsn_set = get_data_loader('../data_for_test/train',batch_size,True)\n",
    "val_loader,tst_loader,num_labels_tst,val_set,tst_set = get_data_loader('../data_for_test/test',batch_size,True,False)"
   ]
  },
  {
   "cell_type": "code",
   "execution_count": 8,
   "id": "29c1584e",
   "metadata": {},
   "outputs": [
    {
     "data": {
      "text/plain": [
       "477"
      ]
     },
     "execution_count": 8,
     "metadata": {},
     "output_type": "execute_result"
    }
   ],
   "source": [
    "len(val_set) + len(tst_set)"
   ]
  },
  {
   "cell_type": "code",
   "execution_count": 9,
   "id": "910cb62c",
   "metadata": {},
   "outputs": [],
   "source": [
    "net = HWNet(num_labels_trn).to(device)\n",
    "loss_fn = nn.CrossEntropyLoss()\n",
    "optimizer = torch.optim.SGD(net.parameters(), lr=2e-3)"
   ]
  },
  {
   "cell_type": "code",
   "execution_count": 10,
   "id": "64c58eaa",
   "metadata": {},
   "outputs": [],
   "source": [
    "import time"
   ]
  },
  {
   "cell_type": "code",
   "execution_count": 11,
   "id": "f6465b82",
   "metadata": {},
   "outputs": [
    {
     "name": "stdout",
     "output_type": "stream",
     "text": [
      "Epoch 1\n",
      "Already trained a epoch,wait for test ...\n",
      "test error:\n",
      " accuracy: 13.4%, avg loss: 2.09940\n",
      "time : 5.854s\n",
      "-------------------------------\n",
      "Epoch 2\n",
      "Already trained a epoch,wait for test ...\n",
      "test error:\n",
      " accuracy: 18.0%, avg loss: 2.04949\n",
      "time : 5.255s\n",
      "-------------------------------\n",
      "Epoch 3\n",
      "Already trained a epoch,wait for test ...\n",
      "test error:\n",
      " accuracy: 27.6%, avg loss: 1.93983\n",
      "time : 5.899s\n",
      "-------------------------------\n",
      "Epoch 4\n",
      "Already trained a epoch,wait for test ...\n",
      "test error:\n",
      " accuracy: 35.1%, avg loss: 1.85944\n",
      "time : 6.533s\n",
      "-------------------------------\n",
      "Epoch 5\n",
      "Already trained a epoch,wait for test ...\n",
      "test error:\n",
      " accuracy: 43.1%, avg loss: 1.73367\n",
      "time : 6.747s\n",
      "-------------------------------\n",
      "Epoch 6\n",
      "Already trained a epoch,wait for test ...\n",
      "test error:\n",
      " accuracy: 46.4%, avg loss: 1.59462\n",
      "time : 6.791s\n",
      "-------------------------------\n",
      "Epoch 7\n",
      "Already trained a epoch,wait for test ...\n",
      "test error:\n",
      " accuracy: 50.6%, avg loss: 1.45908\n",
      "time : 7.009s\n",
      "-------------------------------\n",
      "Epoch 8\n",
      "Already trained a epoch,wait for test ...\n",
      "test error:\n",
      " accuracy: 56.1%, avg loss: 1.31557\n",
      "time : 7.197s\n",
      "-------------------------------\n",
      "Epoch 9\n",
      "Already trained a epoch,wait for test ...\n",
      "test error:\n",
      " accuracy: 63.6%, avg loss: 1.10626\n",
      "time : 6.644s\n",
      "-------------------------------\n",
      "Epoch 10\n",
      "Already trained a epoch,wait for test ...\n",
      "test error:\n",
      " accuracy: 65.3%, avg loss: 1.00056\n",
      "time : 6.867s\n",
      "-------------------------------\n",
      "Epoch 11\n",
      "Already trained a epoch,wait for test ...\n",
      "test error:\n",
      " accuracy: 74.1%, avg loss: 0.86327\n",
      "time : 6.562s\n",
      "-------------------------------\n",
      "Epoch 12\n",
      "Already trained a epoch,wait for test ...\n",
      "test error:\n",
      " accuracy: 72.4%, avg loss: 0.83693\n",
      "time : 7.581s\n",
      "-------------------------------\n",
      "Epoch 13\n",
      "Already trained a epoch,wait for test ...\n",
      "test error:\n",
      " accuracy: 76.6%, avg loss: 0.76371\n",
      "time : 7.040s\n",
      "-------------------------------\n",
      "Epoch 14\n",
      "Already trained a epoch,wait for test ...\n",
      "test error:\n",
      " accuracy: 74.9%, avg loss: 0.70943\n",
      "time : 6.973s\n",
      "-------------------------------\n",
      "Epoch 15\n",
      "Already trained a epoch,wait for test ...\n",
      "test error:\n",
      " accuracy: 79.5%, avg loss: 0.61813\n",
      "time : 6.952s\n",
      "-------------------------------\n",
      "Epoch 16\n",
      "Already trained a epoch,wait for test ...\n",
      "test error:\n",
      " accuracy: 79.9%, avg loss: 0.60953\n",
      "time : 6.965s\n",
      "-------------------------------\n",
      "Epoch 17\n",
      "Already trained a epoch,wait for test ...\n",
      "test error:\n",
      " accuracy: 77.8%, avg loss: 0.61266\n",
      "time : 6.955s\n",
      "-------------------------------\n",
      "Epoch 18\n",
      "Already trained a epoch,wait for test ...\n",
      "test error:\n",
      " accuracy: 78.7%, avg loss: 0.58749\n",
      "time : 8.393s\n",
      "-------------------------------\n",
      "Epoch 19\n",
      "Already trained a epoch,wait for test ...\n",
      "test error:\n",
      " accuracy: 84.5%, avg loss: 0.53973\n",
      "time : 6.822s\n",
      "-------------------------------\n",
      "Epoch 20\n",
      "Already trained a epoch,wait for test ...\n",
      "test error:\n",
      " accuracy: 85.4%, avg loss: 0.49293\n",
      "time : 6.889s\n",
      "-------------------------------\n",
      "Epoch 21\n",
      "Already trained a epoch,wait for test ...\n",
      "test error:\n",
      " accuracy: 84.1%, avg loss: 0.52978\n",
      "time : 7.513s\n",
      "-------------------------------\n",
      "Epoch 22\n",
      "Already trained a epoch,wait for test ...\n",
      "test error:\n",
      " accuracy: 84.5%, avg loss: 0.50033\n",
      "time : 7.089s\n",
      "-------------------------------\n",
      "Epoch 23\n",
      "Already trained a epoch,wait for test ...\n",
      "test error:\n",
      " accuracy: 86.2%, avg loss: 0.45446\n",
      "time : 7.099s\n",
      "-------------------------------\n",
      "Epoch 24\n",
      "Already trained a epoch,wait for test ...\n",
      "test error:\n",
      " accuracy: 85.4%, avg loss: 0.48097\n",
      "time : 7.123s\n",
      "-------------------------------\n",
      "Epoch 25\n",
      "Already trained a epoch,wait for test ...\n",
      "test error:\n",
      " accuracy: 84.9%, avg loss: 0.46536\n",
      "time : 7.185s\n",
      "-------------------------------\n",
      "Epoch 26\n",
      "Already trained a epoch,wait for test ...\n",
      "test error:\n",
      " accuracy: 85.4%, avg loss: 0.45922\n",
      "time : 7.964s\n",
      "-------------------------------\n",
      "Epoch 27\n",
      "Already trained a epoch,wait for test ...\n",
      "test error:\n",
      " accuracy: 82.4%, avg loss: 0.48055\n",
      "time : 7.283s\n",
      "-------------------------------\n",
      "Epoch 28\n",
      "Already trained a epoch,wait for test ...\n",
      "test error:\n",
      " accuracy: 85.8%, avg loss: 0.45051\n",
      "time : 7.664s\n",
      "-------------------------------\n",
      "Epoch 29\n",
      "Already trained a epoch,wait for test ...\n",
      "test error:\n",
      " accuracy: 87.9%, avg loss: 0.47419\n",
      "time : 8.023s\n",
      "-------------------------------\n",
      "Epoch 30\n",
      "Already trained a epoch,wait for test ...\n",
      "test error:\n",
      " accuracy: 86.2%, avg loss: 0.41329\n",
      "time : 7.970s\n",
      "-------------------------------\n",
      "Epoch 31\n",
      "Already trained a epoch,wait for test ...\n",
      "test error:\n",
      " accuracy: 87.0%, avg loss: 0.43053\n",
      "time : 6.846s\n",
      "-------------------------------\n",
      "Epoch 32\n",
      "Already trained a epoch,wait for test ...\n",
      "test error:\n",
      " accuracy: 88.3%, avg loss: 0.38033\n",
      "time : 8.446s\n",
      "-------------------------------\n",
      "****************\n",
      "test error:\n",
      " accuracy: 84.9%, avg loss: 0.50643\n"
     ]
    }
   ],
   "source": [
    "epochs = 32\n",
    "for t in range(epochs):\n",
    "    print(f\"Epoch {t+1}\")\n",
    "    start = time.time()\n",
    "    train(net,trn_loader , loss_fn, optimizer,device)\n",
    "    test(net,tst_loader, loss_fn,device)\n",
    "    end = time.time()\n",
    "    interval = (end-start)\n",
    "    print(f\"Time : {interval:.3f}s\\n-------------------------------\")\n",
    "print('***End of train***')\n",
    "test(net,val_loader,loss_fn,device)"
   ]
  },
  {
   "cell_type": "code",
   "execution_count": 12,
   "id": "98aa8775",
   "metadata": {},
   "outputs": [],
   "source": [
    "from dataset import HWVocab"
   ]
  },
  {
   "cell_type": "code",
   "execution_count": 13,
   "id": "e551b6de",
   "metadata": {},
   "outputs": [
    {
     "name": "stdout",
     "output_type": "stream",
     "text": [
      "dict initialized successfully,there's 8 lables in the dict.\n"
     ]
    }
   ],
   "source": [
    "vocab = HWVocab('../data_for_test/train')"
   ]
  },
  {
   "cell_type": "code",
   "execution_count": 14,
   "id": "e1fa639f",
   "metadata": {},
   "outputs": [],
   "source": [
    "from torchvision import transforms\n",
    "\n",
    "to_img = transforms.ToPILImage()"
   ]
  },
  {
   "cell_type": "code",
   "execution_count": 15,
   "id": "aa8edd9a",
   "metadata": {},
   "outputs": [],
   "source": [
    "transform = transforms.Compose([\n",
    "            transforms.Resize((48,48)),\n",
    "            transforms.ToTensor()\n",
    "        ])"
   ]
  },
  {
   "cell_type": "code",
   "execution_count": 16,
   "id": "eb54b3f9",
   "metadata": {},
   "outputs": [],
   "source": [
    "import PIL\n",
    "\n",
    "img = PIL.Image.open('../data_for_test/train/皑/101.jpg')\n",
    "feature = transform(img)"
   ]
  },
  {
   "cell_type": "code",
   "execution_count": 17,
   "id": "6044112c",
   "metadata": {},
   "outputs": [],
   "source": [
    "feature=feature.reshape(1,1,48,48).to(device)"
   ]
  },
  {
   "cell_type": "code",
   "execution_count": 18,
   "id": "e7e19ccb",
   "metadata": {},
   "outputs": [
    {
     "data": {
      "text/plain": [
       "torch.Size([1, 1, 48, 48])"
      ]
     },
     "execution_count": 18,
     "metadata": {},
     "output_type": "execute_result"
    }
   ],
   "source": [
    "feature.shape"
   ]
  },
  {
   "cell_type": "code",
   "execution_count": 19,
   "id": "9f5444da",
   "metadata": {},
   "outputs": [
    {
     "data": {
      "text/plain": [
       "6"
      ]
     },
     "execution_count": 19,
     "metadata": {},
     "output_type": "execute_result"
    }
   ],
   "source": [
    "net(feature).argmax(1).item()"
   ]
  },
  {
   "cell_type": "code",
   "execution_count": 20,
   "id": "3a0c4f98",
   "metadata": {},
   "outputs": [
    {
     "data": {
      "text/plain": [
       "'皑'"
      ]
     },
     "execution_count": 20,
     "metadata": {},
     "output_type": "execute_result"
    }
   ],
   "source": [
    "vocab.lable2char(net(feature).argmax(1).item())"
   ]
  },
  {
   "cell_type": "code",
   "execution_count": null,
   "id": "e4697f2e",
   "metadata": {},
   "outputs": [],
   "source": []
  },
  {
   "cell_type": "code",
   "execution_count": null,
   "id": "d5888bf3",
   "metadata": {},
   "outputs": [],
   "source": []
  },
  {
   "cell_type": "code",
   "execution_count": null,
   "id": "f0a38247",
   "metadata": {},
   "outputs": [],
   "source": []
  },
  {
   "cell_type": "code",
   "execution_count": null,
   "id": "2b03e229",
   "metadata": {},
   "outputs": [],
   "source": []
  },
  {
   "cell_type": "code",
   "execution_count": null,
   "id": "44357e2e",
   "metadata": {},
   "outputs": [],
   "source": []
  },
  {
   "cell_type": "code",
   "execution_count": null,
   "id": "01e43afa",
   "metadata": {},
   "outputs": [],
   "source": []
  }
 ],
 "metadata": {
  "kernelspec": {
   "display_name": "torch",
   "language": "python",
   "name": "torch"
  },
  "language_info": {
   "codemirror_mode": {
    "name": "ipython",
    "version": 3
   },
   "file_extension": ".py",
   "mimetype": "text/x-python",
   "name": "python",
   "nbconvert_exporter": "python",
   "pygments_lexer": "ipython3",
   "version": "3.10.14"
  }
 },
 "nbformat": 4,
 "nbformat_minor": 5
}
